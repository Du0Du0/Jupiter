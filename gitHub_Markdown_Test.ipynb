{
 "cells": [
  {
   "cell_type": "markdown",
   "id": "802427ff",
   "metadata": {},
   "source": [
    "# markdown 실습"
   ]
  },
  {
   "cell_type": "markdown",
   "id": "e5408d7f",
   "metadata": {},
   "source": [
    "# openCV 실습"
   ]
  },
  {
   "cell_type": "markdown",
   "id": "b42f173b",
   "metadata": {},
   "source": [
    "## 늘어날 수록 하위 제목으로 표현됩니다."
   ]
  },
  {
   "cell_type": "code",
   "execution_count": null,
   "id": "a176752a",
   "metadata": {},
   "outputs": [],
   "source": []
  },
  {
   "cell_type": "code",
   "execution_count": null,
   "id": "38b6544d",
   "metadata": {},
   "outputs": [],
   "source": []
  },
  {
   "cell_type": "code",
   "execution_count": 1,
   "id": "01abfb49",
   "metadata": {},
   "outputs": [
    {
     "name": "stdout",
     "output_type": "stream",
     "text": [
      "1일 1 COMMIT...우리의 길이다!!!\n"
     ]
    }
   ],
   "source": [
    "print(\"1일 1 COMMIT...우리의 길이다!!!\")"
   ]
  },
  {
   "cell_type": "code",
   "execution_count": null,
   "id": "f3036698",
   "metadata": {},
   "outputs": [],
   "source": []
  },
  {
   "cell_type": "code",
   "execution_count": null,
   "id": "eff6859b",
   "metadata": {},
   "outputs": [],
   "source": []
  }
 ],
 "metadata": {
  "kernelspec": {
   "display_name": "Python 3 (ipykernel)",
   "language": "python",
   "name": "python3"
  },
  "language_info": {
   "codemirror_mode": {
    "name": "ipython",
    "version": 3
   },
   "file_extension": ".py",
   "mimetype": "text/x-python",
   "name": "python",
   "nbconvert_exporter": "python",
   "pygments_lexer": "ipython3",
   "version": "3.10.9"
  }
 },
 "nbformat": 4,
 "nbformat_minor": 5
}
